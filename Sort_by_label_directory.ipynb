{
  "nbformat": 4,
  "nbformat_minor": 0,
  "metadata": {
    "colab": {
      "name": "Sort by label_directory.ipynb",
      "provenance": []
    },
    "kernelspec": {
      "name": "python3",
      "display_name": "Python 3"
    },
    "language_info": {
      "name": "python"
    }
  },
  "cells": [
    {
      "cell_type": "code",
      "execution_count": null,
      "metadata": {
        "id": "8gmfCM1i7MiK"
      },
      "outputs": [],
      "source": [
        "import shutil, os\n",
        "import pandas as pd\n",
        "\n",
        "df= pd.read_csv(\"D:/Respaldo/Documents/MAIA/UNICAS/AImageP/project/Python_codes/final_labels.csv\")\n",
        "labels = df.sort_values('final_labels')\n",
        "\n",
        "class_names = list(labels.final_labels.unique())\n",
        "\n",
        "#\"D:/Respaldo/Documents/MAIA/UNICAS/AImageP/project/FILES/Dataset/DL_Class\"\n",
        "#\"D:\\Respaldo\\Documents\\MAIA\\UNICAS\\AImageP\\project\\FILES\\ISIC-2017_Training_Data\"\n",
        "train_images = \"D:/Respaldo/Documents/MAIA/UNICAS/AImageP/project/FILES/ISIC-2017_Training_Data\"\n",
        "train_cat = \"D:/Respaldo/Documents/MAIA/UNICAS/AImageP/project/FILES/Dataset/DL_Class\"\n",
        "\n",
        "#creating subfolders\n",
        "for i in class_names:\n",
        "    os.makedirs(os.path.join(\"DL_Class\", [i][0]))\n",
        "\n",
        "#moving the image files to their respective categories\n",
        "for c in class_names: # Category Name\n",
        "    for i in list(labels[labels['final_labels']==c]['image_id']): # Image Id\n",
        "        get_image = os.path.join(train_images, i) # Path to Images \n",
        "        move_image_to_cat = shutil.copy(get_image, train_cat+c)"
      ]
    }
  ]
}